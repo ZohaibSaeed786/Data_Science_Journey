{
 "cells": [
  {
   "cell_type": "markdown",
   "metadata": {},
   "source": [
    "<h1>Importing Libraries"
   ]
  },
  {
   "cell_type": "code",
   "execution_count": null,
   "metadata": {},
   "outputs": [],
   "source": [
    "#importing libraries\n",
    "\n",
    "import numpy as np\n",
    "import pandas as pd\n",
    "import matplotlib.pyplot as plt\n"
   ]
  },
  {
   "cell_type": "markdown",
   "metadata": {},
   "source": [
    "<h2>Reading data  & Saving data to another csv file<\\h2>"
   ]
  },
  {
   "cell_type": "markdown",
   "metadata": {},
   "source": [
    "<h3>Adding index_col=0 to set 1st column as label </h3>\n",
    "data= pd.read_csv('data.csv',index_col=0)\n"
   ]
  },
  {
   "cell_type": "code",
   "execution_count": null,
   "metadata": {},
   "outputs": [],
   "source": [
    "#Reading a Data set from a CSV file\n",
    "data = pd.read_csv('tested.csv', index_col=0)\n",
    "\n",
    "#Saving data to another csv file\n",
    "data.to_csv('NEW_CSV_FILE.csv')\n",
    "\n",
    "ages = np.array(data['Age'])\n",
    "survived = np.array(data['Survived'])\n",
    "\n",
    "\n",
    "#Plotting the data\n",
    "plt.plot(ages, survived, '*')\n",
    "plt.show()\n"
   ]
  },
  {
   "cell_type": "markdown",
   "metadata": {},
   "source": [
    "<h2>To check Datatypes of the columns\n"
   ]
  },
  {
   "cell_type": "code",
   "execution_count": null,
   "metadata": {},
   "outputs": [],
   "source": [
    "\n",
    "print(data.dtypes)\n"
   ]
  },
  {
   "cell_type": "markdown",
   "metadata": {},
   "source": [
    "<h2>To Check the count,avg deviation etc of data types"
   ]
  },
  {
   "cell_type": "code",
   "execution_count": null,
   "metadata": {},
   "outputs": [],
   "source": [
    "data.describe()\n",
    "\n",
    "# To check for all the columns;\n",
    "\n",
    "data.describe(include = \"all\")\n"
   ]
  },
  {
   "cell_type": "markdown",
   "metadata": {},
   "source": [
    "<h1>To check missing values and replace them"
   ]
  },
  {
   "cell_type": "code",
   "execution_count": null,
   "metadata": {},
   "outputs": [],
   "source": [
    "#To check the number of missing values in each column\n",
    "\n",
    "\n",
    "#To replace the missing values with NaN\n",
    "df1 = data.replace('?', np.nan)\n",
    "\n",
    "data= df1.dropna(subset=[\"Cabin\"], axis=0)\n",
    "\n",
    "data.head(10)"
   ]
  },
  {
   "cell_type": "markdown",
   "metadata": {},
   "source": [
    "<h1>Dictonaries in python :</h1> \n",
    "\n",
    "We use dictionaries instead of the list to keep track of the value refers to something else.\n",
    "\n",
    "and we use curlt {} brackets for creating dictionary as : \n",
    "\n",
    "world_pop = {\"Pakistan\": 33, \"India\": 130}\n",
    "\n",
    "so, it is a dictionary. ok!"
   ]
  },
  {
   "cell_type": "markdown",
   "metadata": {},
   "source": [
    "<h3> 01 : Without using dictionary by using index method"
   ]
  },
  {
   "cell_type": "code",
   "execution_count": null,
   "metadata": {},
   "outputs": [],
   "source": [
    "# Definition of countries and capital\n",
    "countries = ['spain', 'france', 'germany', 'norway']\n",
    "capitals = ['madrid', 'paris', 'berlin', 'oslo']\n",
    "\n",
    "# Get index of 'germany': ind_ger\n",
    "ind_ger = countries.index('germany')\n",
    "\n",
    "# Use ind_ger to print out capital of Germany\n",
    "print(capitals[ind_ger])"
   ]
  },
  {
   "cell_type": "markdown",
   "metadata": {},
   "source": [
    "<h3> 02) Using dictionary</h3>\n",
    "\n",
    "Here, spain, france, germany and norway are the keys and we can acces them by using the key fuction as :\n",
    "\n",
    "europe.keys()\n",
    "\n",
    "it would give all the keys values of the dictionary europe.\n",
    "\n",
    "we can also print any key value as :\n",
    "\n",
    "print( world['norway'])\n",
    "Output : oslo\n",
    "\n",
    "okay!"
   ]
  },
  {
   "cell_type": "code",
   "execution_count": null,
   "metadata": {},
   "outputs": [],
   "source": [
    "# Definition of dictionary\n",
    "europe = {'spain':'madrid', 'france':'paris', 'germany':'berlin', 'norway':'oslo' }\n",
    "\n",
    "# Print out the keys in europe\n",
    "print(europe.keys())\n",
    "\n",
    "# Print out value that belongs to key 'norway'\n",
    "print(europe['norway'])"
   ]
  },
  {
   "cell_type": "markdown",
   "metadata": {},
   "source": [
    "<h3>Adding a new value to the dictionary</h3>\n",
    "\n",
    "We can add any value to a dictionary by using the following method as :\n",
    "\n",
    "europe['italy'] = 'rome'\n",
    "\n",
    "now italy is added to the dictionary europe with the capital rome.\n",
    "\n",
    "<h4>we can also check the key is present in the dictionary or not by using the following method as :\n",
    "\n",
    "print('italy' in europe)\n",
    "\n",
    "output : True"
   ]
  },
  {
   "cell_type": "code",
   "execution_count": null,
   "metadata": {},
   "outputs": [],
   "source": [
    "# Definition of dictionary\n",
    "europe = {'spain':'madrid', 'france':'paris', 'germany':'berlin', 'norway':'oslo' }\n",
    "\n",
    "# Add italy to europe\n",
    "europe['italy']= 'rome'\n",
    "\n",
    "# Print out italy in europe\n",
    "print('italy' in europe)\n",
    "\n",
    "# Add poland to europe\n",
    "europe['poland'] = 'warsaw'\n",
    "\n",
    "# Print europe\n",
    "print(europe)"
   ]
  },
  {
   "cell_type": "markdown",
   "metadata": {},
   "source": [
    "<h3>Update and Delete any key</h3>\n",
    "\n",
    "We can update the value of the key by using the following method as :\n",
    "europe['germany'] = 'berlin'\n",
    "\n",
    "Also delete the key from the dictionary by using the following method as :\n",
    "\n",
    "del(europe['italy'])\n"
   ]
  },
  {
   "cell_type": "code",
   "execution_count": null,
   "metadata": {},
   "outputs": [],
   "source": [
    "# Definition of dictionary\n",
    "europe = {'spain':'madrid', 'france':'paris', 'germany':'bonn',\n",
    "          'norway':'oslo', 'italy':'rome', 'poland':'warsaw',\n",
    "          'australia':'vienna' }\n",
    "\n",
    "# Update capital of germany\n",
    "europe['germany']= 'berlin'\n",
    "\n",
    "# Remove australia\n",
    "del(europe['australia'])\n",
    "\n",
    "# Print europe\n",
    "print(europe)\n"
   ]
  },
  {
   "cell_type": "markdown",
   "metadata": {},
   "source": [
    "<h1>Dictionaries of Dictionaries </h1>\n",
    "\n",
    "<h4>Recently we leared about the dictionary, now we will learn about the multiple dictionaries in a single dictionary:\n",
    "     \n",
    "    jaisa kay phly aik mulk ka capital btaya ja raha tha. Ab aik mulk ha jo kay aik key ha main dictionary k andar or hmein us kay andar aik or dictionary ko add karna hai jo kay us mulk ka capital or population btaeiyy gi.\n",
    "     \n",
    "     jaisa kay nechy dikhaya gaya ha :\n",
    "     \n",
    "     europe = { 'spain': { 'capital':'madrid', 'population':46.77 }, /br\n",
    "           'france': { 'capital':'paris', 'population':66.03 },\n",
    "           'germany': { 'capital':'berlin', 'population':80.62 },\n",
    "           'norway': { 'capital':'oslo', 'population':5.084 } }\n",
    "     \n",
    "     Now we can also print the capital and population of any country by using the following method as :\n",
    "     \n",
    "     print(europe['spain']['capital'])\n",
    "     \n",
    "     output : madrid\n",
    "     \n",
    "     print(europe['spain']['population'])\n",
    "     \n",
    "     output : 46.77\n",
    "\n",
    "\n",
    "</h4>\n",
    "\n",
    "also we can create the dictionaries of dictionaries as :\n",
    "\n",
    "europe = { 'spain': { 'capital':'madrid', 'population':46.77 }, /br\n",
    "           'france': { 'capital':'paris', 'population':66.03 },\n",
    "           'germany': { 'capital':'berlin', 'population':80.62 },\n",
    "           'norway': { 'capital':'oslo', 'population':5.084 } }"
   ]
  },
  {
   "cell_type": "code",
   "execution_count": null,
   "metadata": {},
   "outputs": [],
   "source": [
    "# Dictionary of dictionaries\n",
    "europe = { 'spain': { 'capital':'madrid', 'population':46.77 },\n",
    "           'france': { 'capital':'paris', 'population':66.03 },\n",
    "           'germany': { 'capital':'berlin', 'population':80.62 },\n",
    "           'norway': { 'capital':'oslo', 'population':5.084 } }\n",
    "\n",
    "\n",
    "# Print out the capital of France\n",
    "print(europe['france']['capital'])\n",
    "print(europe['france']['population'])"
   ]
  },
  {
   "cell_type": "markdown",
   "metadata": {},
   "source": [
    "<h2> Adding a sub dictionary to a main dictionary</h2>\n",
    "\n",
    "Ham aik dictionary ko dosry dictionary k andar bhi add kar sakty hain as :\n",
    "\n",
    "world = { \"afghanistan\":{'kabul':30.55}, \"albania\":{'unknown':2.77}, \"algeria\":{'nhipta':39.21 } }\n",
    "\n",
    "Abb aik new dictionary bnaen gy or us ko world k andar add karen gy as :\n",
    "\n",
    "new_dic = { \"sealand\":0.000027 }\n",
    "\n",
    "world['sealand'] = new_dic\n"
   ]
  },
  {
   "cell_type": "code",
   "execution_count": null,
   "metadata": {},
   "outputs": [],
   "source": [
    "world = { \"afghanistan\":{'kabul':30.55}, \"albania\":{'unknown':2.77}, \"algeria\":{'nhipta':39.21 } }\n",
    "\n",
    "sub_dict = {'Delhi':130.08}\n",
    "\n",
    "world['india'] = sub_dict\n",
    "\n",
    "\n",
    "print(world['india']['Delhi'])"
   ]
  },
  {
   "cell_type": "markdown",
   "metadata": {},
   "source": [
    "<h3>We can also create a dataframe from a dictionary</h3>\n",
    "\n",
    "world = { \"afghanistan\":{'kabul':30.55}, \"albania\":{'unknown':2.77}, \"algeria\":{'nhipta':39.21 } }\n",
    "pd.DataFrame(world)\n"
   ]
  },
  {
   "cell_type": "code",
   "execution_count": null,
   "metadata": {},
   "outputs": [],
   "source": [
    "\n",
    "europe = { 'spain': { 'capital':'madrid', 'population':46.77 },\n",
    "           'france': { 'capital':'paris', 'population':66.03 },\n",
    "           'germany': { 'capital':'berlin', 'population':80.62 },\n",
    "           'norway': { 'capital':'oslo', 'population':5.084 } }\n",
    "\n",
    "data = pd.DataFrame(europe)\n",
    "print(data)\n",
    "\n"
   ]
  },
  {
   "cell_type": "markdown",
   "metadata": {},
   "source": [
    "<H1>                 Creating a dataframe using lists</H1>\n",
    "\n",
    "we can also add labels to the data frame as :\n",
    "dataframe.index = ['AF', 'AL', 'DZ']"
   ]
  },
  {
   "cell_type": "code",
   "execution_count": null,
   "metadata": {},
   "outputs": [],
   "source": [
    "# Pre-defined lists\n",
    "\n",
    "names = ['United States', 'Australia', 'Japan', 'India', 'Russia', 'Morocco', 'Egypt']\n",
    "dr =  [True, False, False, False, True, True, True]\n",
    "cpc = [809, 731, 588, 18, 200, 70, 45]\n",
    "\n",
    "# Create dictionary my_dict with three key:value pairs: my_dict\n",
    "my_dict = { 'country':names, 'drives_right':dr, 'cars_per_cap':cpc }\n",
    "\n",
    "# Build a DataFrame cars from my_dict: cars\n",
    "cars = pd.DataFrame(my_dict)\n",
    "\n",
    "\n",
    "# Definition of row_labels\n",
    "row_labels = ['US', 'AUS', 'JPN', 'IN', 'RU', 'MOR', 'EG']\n",
    "\n",
    "# Specify row labels of cars\n",
    "cars.index = row_labels\n",
    "\n",
    "# Print cars again\n",
    "cars.loc[['US', 'AUS']],[['cars_per_cap', 'country']]"
   ]
  },
  {
   "cell_type": "markdown",
   "metadata": {},
   "source": [
    "<H1>To print an entire row of a dataframe</H1>"
   ]
  },
  {
   "cell_type": "code",
   "execution_count": null,
   "metadata": {},
   "outputs": [],
   "source": [
    "# Import cars data\n",
    "import pandas as pd\n",
    "cars = pd.read_csv('tested.csv', index_col = 0)\n",
    "\n",
    "# Print out country column as Pandas Series\n",
    "print(cars['Age'])\n",
    "\n",
    "# Print out country column as Pandas DataFrame  && use double square brackets\n",
    "print(cars[[\"Sex\"]])\n",
    "\n",
    "# Print out DataFrame with country and drives_right columns\n",
    "print(cars[[\"Age\",\"Sex\"]])"
   ]
  },
  {
   "cell_type": "markdown",
   "metadata": {},
   "source": [
    "<h1> Use of loc and iloc to acces the rows of a DataFrame </h1>"
   ]
  },
  {
   "cell_type": "code",
   "execution_count": null,
   "metadata": {},
   "outputs": [],
   "source": [
    "# Pre-defined lists\n",
    "\n",
    "names = ['United States', 'Australia', 'Japan', 'India', 'Russia', 'Morocco', 'Egypt']\n",
    "dr =  [True, False, False, False, True, True, True]\n",
    "cpc = [809, 731, 588, 18, 200, 70, 45]\n",
    "\n",
    "# Create dictionary my_dict with three key:value pairs: my_dict\n",
    "my_dict = { 'country':names, 'drives_right':dr, 'cars_per_cap':cpc }\n",
    "\n",
    "# Build a DataFrame cars from my_dict: cars\n",
    "cars = pd.DataFrame(my_dict)\n",
    "\n",
    "\n",
    "# Definition of row_labels\n",
    "row_labels = ['US', 'AUS', 'JPN', 'IN', 'RU', 'MOR', 'EG']\n",
    "\n",
    "# Specify row labels of cars\n",
    "cars.index = row_labels\n",
    "\n",
    "# Print cars again\n",
    "\n",
    "print(cars.loc[['US', 'AUS']],[['cars_per_cap', 'country']])\n",
    "print(cars.iloc[[0,1],[0,1]])"
   ]
  },
  {
   "cell_type": "markdown",
   "metadata": {},
   "source": [
    "<h1>To print some specific columns of a dataframe</h1>\n",
    "\n",
    "# Print sub-DataFrame\n",
    "print(cars.iloc[[4,5],[1,2]])\n",
    "\n",
    "Here iloc's first squere bracket is for the rows and second squere bracket is for the columns."
   ]
  },
  {
   "cell_type": "code",
   "execution_count": null,
   "metadata": {},
   "outputs": [],
   "source": [
    "# Import cars data\n",
    "import pandas as pd\n",
    "tested = pd.read_csv('tested.csv', index_col = 0)\n",
    "\n",
    "# Print out drives_right value of Morocco\n",
    "print(tested.iloc[[5],[2]])\n",
    "\n",
    "# Print sub-DataFrame\n",
    "print(tested.iloc[[4,5],[1,2]])"
   ]
  },
  {
   "cell_type": "markdown",
   "metadata": {},
   "source": [
    "<h1>To print some specific columns as series and dataframe</h1>\n",
    "\n",
    "Using loc and iloc"
   ]
  },
  {
   "cell_type": "code",
   "execution_count": null,
   "metadata": {},
   "outputs": [],
   "source": [
    "# Import cars data\n",
    "import pandas as pd\n",
    "cars = pd.read_csv('tested.csv', index_col = 0)\n",
    "\n",
    "# Print out drives_right column as Series\n",
    "print(cars.iloc[:,2])\n",
    "\n",
    "# Print out drives_right column as DataFrame\n",
    "print(cars.loc[:,['Age']])\n",
    "\n",
    "# Print out cars_per_cap and drives_right as DataFrame\n",
    "print(cars.loc[:,['Name','Sex']])"
   ]
  },
  {
   "cell_type": "markdown",
   "metadata": {},
   "source": [
    "<h1>Allah Hafiz"
   ]
  }
 ],
 "metadata": {
  "kernelspec": {
   "display_name": "Python 3",
   "language": "python",
   "name": "python3"
  },
  "language_info": {
   "codemirror_mode": {
    "name": "ipython",
    "version": 3
   },
   "file_extension": ".py",
   "mimetype": "text/x-python",
   "name": "python",
   "nbconvert_exporter": "python",
   "pygments_lexer": "ipython3",
   "version": "3.11.4"
  },
  "orig_nbformat": 4
 },
 "nbformat": 4,
 "nbformat_minor": 2
}
