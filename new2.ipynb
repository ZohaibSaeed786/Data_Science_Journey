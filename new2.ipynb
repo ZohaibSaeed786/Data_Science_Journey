{
 "cells": [
  {
   "cell_type": "code",
   "execution_count": 2,
   "metadata": {},
   "outputs": [
    {
     "name": "stdout",
     "output_type": "stream",
     "text": [
      "[ 0.1         0.22222222  0.375       0.57142857  0.83333333  1.2\n",
      "  1.75        2.66666667  4.5        10.        ]\n",
      "HOW ARE YOU\n"
     ]
    }
   ],
   "source": [
    "import numpy as np\n",
    "import pandas as pd\n",
    "\n",
    "new_weight = np.array([1,2,3,4,5,6,7,8,9,10])\n",
    "new_height = np.array([10,9,8,7,6,5,4,3,2,1])\n",
    "\n",
    "ans = new_weight/new_height\n",
    "print(ans)\n",
    "\n",
    "print(\"HOW ARE YOU\")\n",
    "x = input(\"Enter your name: \")\n",
    "if(x == \"Arif\"):\n",
    "    print(\"Hi Arif\")\n"
   ]
  }
 ],
 "metadata": {
  "kernelspec": {
   "display_name": "Python 3",
   "language": "python",
   "name": "python3"
  },
  "language_info": {
   "codemirror_mode": {
    "name": "ipython",
    "version": 3
   },
   "file_extension": ".py",
   "mimetype": "text/x-python",
   "name": "python",
   "nbconvert_exporter": "python",
   "pygments_lexer": "ipython3",
   "version": "3.11.4"
  },
  "orig_nbformat": 4
 },
 "nbformat": 4,
 "nbformat_minor": 2
}
